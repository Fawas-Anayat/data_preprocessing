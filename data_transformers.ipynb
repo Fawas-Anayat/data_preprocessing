{
 "cells": [
  {
   "cell_type": "markdown",
   "id": "ac64d139",
   "metadata": {},
   "source": [
    "#### This file contains:  \n",
    "1.MinMaxScaler   \n",
    "2.Ordinalencodor  \n",
    "3.ColumnTransformer"
   ]
  }
 ],
 "metadata": {
  "language_info": {
   "name": "python"
  }
 },
 "nbformat": 4,
 "nbformat_minor": 5
}
